{
 "cells": [
  {
   "cell_type": "code",
   "execution_count": 1,
   "metadata": {},
   "outputs": [],
   "source": [
    "import mlflow"
   ]
  },
  {
   "cell_type": "code",
   "execution_count": 2,
   "metadata": {},
   "outputs": [],
   "source": [
    "mlflow.set_tracking_uri('http://mlflow:5000')"
   ]
  },
  {
   "cell_type": "code",
   "execution_count": 8,
   "metadata": {},
   "outputs": [],
   "source": [
    "experiment_id = mlflow.create_experiment('experiment2') #name must be unique, maybe do timestamp?"
   ]
  },
  {
   "cell_type": "code",
   "execution_count": 5,
   "metadata": {},
   "outputs": [
    {
     "data": {
      "text/plain": [
       "[<Experiment: artifact_location='/mlflow/0', experiment_id='0', lifecycle_stage='active', name='Default', tags={}>,\n",
       " <Experiment: artifact_location='/mlflow/1', experiment_id='1', lifecycle_stage='active', name='experiment-alpha', tags={}>,\n",
       " <Experiment: artifact_location='/mlflow/3', experiment_id='3', lifecycle_stage='active', name='experiment-alpha2', tags={}>,\n",
       " <Experiment: artifact_location='/mlflow/5', experiment_id='5', lifecycle_stage='active', name='experiment1', tags={}>]"
      ]
     },
     "execution_count": 5,
     "metadata": {},
     "output_type": "execute_result"
    }
   ],
   "source": [
    "from mlflow.tracking import MlflowClient\n",
    "client = MlflowClient()\n",
    "experiments = client.list_experiments() # returns a list of mlflow.entities.Experiment\n",
    "experiments "
   ]
  },
  {
   "cell_type": "code",
   "execution_count": 6,
   "metadata": {},
   "outputs": [],
   "source": [
    "run = client.create_run(experiments[0].experiment_id) # returns mlflow.entities.Run\n",
    "client.log_param(run.info.run_uuid, \"hello\", \"world\")\n",
    "client.set_terminated(run.info.run_uuid)"
   ]
  },
  {
   "cell_type": "code",
   "execution_count": 10,
   "metadata": {},
   "outputs": [
    {
     "data": {
      "image/png": "[encoded data removed]",
      "text/plain": [
       "<Figure size 432x288 with 1 Axes>"
      ]
     },
     "metadata": {
      "needs_background": "light"
     },
     "output_type": "display_data"
    }
   ],
   "source": [
    "import numpy as np\n",
    "import matplotlib.pyplot as plt\n",
    "\n",
    "x = np.linspace(-np.pi, np.pi, 201)\n",
    "sin = np.sin(x)\n",
    "cos = np.cos(x)\n",
    "plt.plot(x)\n",
    "\n",
    "plt.savefig('test.png')\n",
    "\n",
    "mlflow.end_run()\n",
    "with mlflow.start_run(experiment_id=experiment_id):\n",
    "    mlflow.log_param(\"name\", 'sine test')\n",
    "    mlflow.log_param(\"mood\", 'great')\n",
    "    mlflow.log_param(\"weather\", 'sunny')\n",
    "    \n",
    "    for value in sin:\n",
    "        mlflow.log_metric(\"sine\", value)\n",
    "    for value in cos:\n",
    "        mlflow.log_metric(\"cosine\", value)\n",
    "    mlflow.log_artifact('test.png')"
   ]
  },
  {
   "cell_type": "code",
   "execution_count": null,
   "metadata": {},
   "outputs": [],
   "source": []
  }
 ],
 "metadata": {
  "kernelspec": {
   "display_name": "Python 3",
   "language": "python",
   "name": "python3"
  },
  "language_info": {
   "codemirror_mode": {
    "name": "ipython",
    "version": 3
   },
   "file_extension": ".py",
   "mimetype": "text/x-python",
   "name": "python",
   "nbconvert_exporter": "python",
   "pygments_lexer": "ipython3",
   "version": "3.6.6"
  }
 },
 "nbformat": 4,
 "nbformat_minor": 4
}
